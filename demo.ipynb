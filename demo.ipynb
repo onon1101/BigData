{
 "cells": [
  {
   "cell_type": "code",
   "execution_count": null,
   "metadata": {},
   "outputs": [],
   "source": []
  },
  {
   "cell_type": "code",
   "execution_count": null,
   "metadata": {},
   "outputs": [],
   "source": [
    "from sklearn.model_selection import train_test_split\n",
    "from sklearn.ensemble import RandomForestClassifier\n",
    "from sklearn.metrics import accuracy_score, classification_report\n",
    "\n",
    "df_new = pd.DataFrame(columns=['職類名稱', '提名單位', '得名次數', '名次'])\n",
    "\n",
    "# 將名次轉換為數值類型，將非數值的名次設為 0\n",
    "df['名次'] = pd.to_numeric(df['名次'], errors='coerce').fillna(0)\n",
    "\n",
    "# 將提名單位和職類名稱轉換為數值類型\n",
    "df['提名單位'] = df['提名單位'].astype('category').cat.codes\n",
    "df['職類名稱'] = df['職類名稱'].astype('category').cat.codes\n",
    "\n",
    "# 設置特徵和標籤\n",
    "X = df[['職類名稱', '提名單位']]\n",
    "y = (df['得名次數'] > 0).astype(int)  # 將得名次數大於 0 設為 1，否則設為 0\n",
    "\n",
    "# 分割數據集為訓練集和測試集\n",
    "X_train, X_test, y_train, y_test = train_test_split(X, y, test_size=0.2, random_state=42)\n",
    "\n",
    "# 訓練隨機森林模型\n",
    "model = RandomForestClassifier(n_estimators=6, random_state=2, max_depth=5)\n",
    "model.fit(X_train, y_train)\n",
    "\n",
    "# 在測試集上進行預測\n",
    "y_pred = model.predict(X_test)\n",
    "\n",
    "# 計算準確率\n",
    "# accuracy = accuracy_score(y_test, y_pred)\n",
    "print(\"Accuracy:\", accuracy_score(y_test, y_pred))\n",
    "print(\"Classification Report:\\n\", classification_report(y_test, y_pred))"
   ]
  }
 ],
 "metadata": {
  "kernelspec": {
   "display_name": "deep-learning-d2l",
   "language": "python",
   "name": "python3"
  },
  "language_info": {
   "name": "python",
   "version": "3.9.19"
  }
 },
 "nbformat": 4,
 "nbformat_minor": 2
}
