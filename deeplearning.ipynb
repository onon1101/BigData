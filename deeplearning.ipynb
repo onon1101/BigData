{
 "cells": [
  {
   "cell_type": "code",
   "execution_count": 12,
   "metadata": {},
   "outputs": [
    {
     "name": "stdout",
     "output_type": "stream",
     "text": [
      "    職類名稱                提名單位  名次  得名次數\n",
      "0   綜合機械      臺中市立臺中工業高級中等學校   1   2.0\n",
      "1   綜合機械                 NaN   3   NaN\n",
      "2   綜合機械      臺中市立大甲工業高級中等學校   4   1.0\n",
      "3   綜合機械        國立羅東高級工業職業學校   5   2.0\n",
      "4   綜合機械        國立新竹高級工業職業學校  佳作   1.0\n",
      "5   綜合機械        國立屏東高級工業職業學校  缺失   0.0\n",
      "6   綜合機械      臺北市立木柵高級工業職業學校  缺失   0.0\n",
      "7   綜合機械        國立秀水高級工業職業學校  缺失   0.0\n",
      "8   綜合機械  國立彰化師範大學附屬高級工業職業學校  缺失   0.0\n",
      "9   綜合機械        國立員林高級農工職業學校  缺失   0.0\n",
      "10  綜合機械        國立花蓮高級工業職業學校  缺失   0.0\n",
      "11  綜合機械        國立新化高級工業職業學校  缺失   0.0\n",
      "12  綜合機械      臺北市立大安高級工業職業學校  缺失   0.0\n",
      "13  綜合機械      高雄市立高雄高級工業職業學校  缺失   0.0\n",
      "14  綜合機械        國立草屯高級商工職業學校  缺失   0.0\n",
      "15  綜合機械        國立永靖高級工業職業學校  缺失   0.0\n",
      "16  綜合機械        國立二林高級工商職業學校  缺失   0.0\n",
      "17  綜合機械      臺北市立松山高級工農職業學校  缺失   0.0\n",
      "18  綜合機械        國立臺南高級工業職業學校  缺失   0.0\n",
      "19  綜合機械      臺北市立南港高級工業職業學校  缺失   0.0\n"
     ]
    }
   ],
   "source": [
    "import pandas as pd\n",
    "import xgboost as xgb\n",
    "from sklearn.model_selection import train_test_split\n",
    "from sklearn.metrics import accuracy_score, f1_score\n",
    "from sklearn.preprocessing import LabelEncoder\n",
    "\n",
    "df = pd.read_excel('output.xlsx')\n",
    "print(df.head(20))"
   ]
  },
  {
   "cell_type": "code",
   "execution_count": 13,
   "metadata": {},
   "outputs": [
    {
     "name": "stdout",
     "output_type": "stream",
     "text": [
      "Accuracy: 99.35%\n",
      "F1 Score: 0.90\n"
     ]
    },
    {
     "name": "stderr",
     "output_type": "stream",
     "text": [
      "c:\\Users\\adven\\miniconda3\\envs\\deep-learning-d2l\\lib\\site-packages\\xgboost\\core.py:158: UserWarning: [20:53:17] WARNING: C:\\buildkite-agent\\builds\\buildkite-windows-cpu-autoscaling-group-i-0c55ff5f71b100e98-1\\xgboost\\xgboost-ci-windows\\src\\learner.cc:740: \n",
      "Parameters: { \"use_label_encoder\" } are not used.\n",
      "\n",
      "  warnings.warn(smsg, UserWarning)\n"
     ]
    }
   ],
   "source": [
    "\n",
    "df['提名單位'].fillna('未知', inplace=True)\n",
    "df['得名次數'].fillna(0, inplace=True)\n",
    "df['名次'].replace('缺失', 0, inplace=True)\n",
    "\n",
    "le = LabelEncoder()\n",
    "df['職類名稱'] = le.fit_transform(df['職類名稱'])\n",
    "df['提名單位'] = le.fit_transform(df['提名單位'])\n",
    "df['名次'] = df['名次'].apply(lambda x: 0 if x == '佳作' else int(x))\n",
    "\n",
    "X = df[['職類名稱', '提名單位', '名次']]\n",
    "y = df['得名次數'] > 0\n",
    "\n",
    "X_train, X_test, y_train, y_test = train_test_split(X, y, test_size=0.2, random_state=42)\n",
    "\n",
    "model = xgb.XGBClassifier(use_label_encoder=False, eval_metric='logloss')\n",
    "model.fit(X_train, y_train)\n",
    "\n",
    "y_pred = model.predict(X_test)\n",
    "accuracy = accuracy_score(y_test, y_pred)\n",
    "f1 = f1_score(y_test, y_pred)\n",
    "print(f'Accuracy: {accuracy * 100:.2f}%')\n",
    "print(f'F1 Score: {f1:.2f}')"
   ]
  }
 ],
 "metadata": {
  "kernelspec": {
   "display_name": "deep-learning-d2l",
   "language": "python",
   "name": "python3"
  },
  "language_info": {
   "name": "python",
   "version": "3.9.19"
  }
 },
 "nbformat": 4,
 "nbformat_minor": 2
}
